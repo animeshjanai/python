{
  "cells": [
    {
      "cell_type": "markdown",
      "metadata": {
        "id": "view-in-github",
        "colab_type": "text"
      },
      "source": [
        "<a href=\"https://colab.research.google.com/github/animeshjanai/python/blob/main/OOPs_concept.ipynb\" target=\"_parent\"><img src=\"https://colab.research.google.com/assets/colab-badge.svg\" alt=\"Open In Colab\"/></a>"
      ]
    },
    {
      "cell_type": "markdown",
      "metadata": {
        "id": "y3fmtNwXr8kv"
      },
      "source": [
        "# Object Oriented Programming\n",
        "#### Problem 1\n",
        "- Fill in the Line class methods to accept coordinates as a pair of tuples and return the slope and distance of the line."
      ]
    },
    {
      "cell_type": "code",
      "execution_count": null,
      "metadata": {
        "id": "VoMnwIkrr8kx"
      },
      "outputs": [],
      "source": [
        "class line:\n",
        "\n",
        "    def __init__(self,coor1,coor2):\n",
        "        self.coor1 = coor1\n",
        "        self.coor2 = coor2\n",
        "\n",
        "    def distance(self):\n",
        "        x1,y1 = self.coor1\n",
        "        x2,y2 = self.coor2\n",
        "        return ((x2-x1)**2 + (y2-y1)**2)**0.5\n",
        "\n",
        "    def slope(self):\n",
        "        x1,y1 = self.coor1\n",
        "        x2,y2 = self.coor2\n",
        "        return (y2-y1)/(x2-x1)"
      ]
    },
    {
      "cell_type": "code",
      "execution_count": null,
      "metadata": {
        "id": "yxDUB1-Cr8ky"
      },
      "outputs": [],
      "source": [
        "c1= (-2,-5)\n",
        "c2=(8,10)"
      ]
    },
    {
      "cell_type": "code",
      "execution_count": null,
      "metadata": {
        "id": "ew8gmZYVr8ky"
      },
      "outputs": [],
      "source": [
        "myline = line(c1,c2)"
      ]
    },
    {
      "cell_type": "code",
      "execution_count": null,
      "metadata": {
        "id": "SeFeF1O9r8ky",
        "outputId": "36371dcc-5771-4e5b-9dba-64ea07b6b0c1"
      },
      "outputs": [
        {
          "data": {
            "text/plain": [
              "18.027756377319946"
            ]
          },
          "execution_count": 12,
          "metadata": {},
          "output_type": "execute_result"
        }
      ],
      "source": [
        "myline.distance()"
      ]
    },
    {
      "cell_type": "code",
      "execution_count": null,
      "metadata": {
        "id": "x92mugl9r8kz",
        "outputId": "9d6b4de7-3a05-4fb3-c94a-be989df7b488"
      },
      "outputs": [
        {
          "data": {
            "text/plain": [
              "1.5"
            ]
          },
          "execution_count": 13,
          "metadata": {},
          "output_type": "execute_result"
        }
      ],
      "source": [
        "myline.slope()"
      ]
    },
    {
      "cell_type": "markdown",
      "metadata": {
        "id": "JQao2PVSr8kz"
      },
      "source": [
        "### Problem 2\n",
        "Fill in the class to return vloume and surface area of the cylinder"
      ]
    },
    {
      "cell_type": "code",
      "execution_count": null,
      "metadata": {
        "id": "PBGpuV9or8kz"
      },
      "outputs": [],
      "source": [
        "class cylinder:\n",
        "\n",
        "    def __init__(self,height=1,radius=1):\n",
        "        self.height = height\n",
        "        self.radius = radius\n",
        "\n",
        "    def volume(self):\n",
        "        return 3.14 * self.height * (self.radius)**2\n",
        "\n",
        "    def surface_area(self):\n",
        "        return (2*3.14*(self.radius)**2) + 2*3.14*self.radius*self.height"
      ]
    },
    {
      "cell_type": "code",
      "execution_count": null,
      "metadata": {
        "id": "GWnX07vKr8kz"
      },
      "outputs": [],
      "source": [
        "mycyl = cylinder(2,3)"
      ]
    },
    {
      "cell_type": "code",
      "execution_count": null,
      "metadata": {
        "id": "PZHf7ShNr8k0",
        "outputId": "ab9f622e-8121-4044-d3da-42cea665661f"
      },
      "outputs": [
        {
          "data": {
            "text/plain": [
              "56.52"
            ]
          },
          "execution_count": 18,
          "metadata": {},
          "output_type": "execute_result"
        }
      ],
      "source": [
        "mycyl.volume()"
      ]
    },
    {
      "cell_type": "code",
      "execution_count": null,
      "metadata": {
        "id": "yH-3lEInr8k0",
        "outputId": "f848eed9-ff68-40b9-8f08-1a572bd5df2e"
      },
      "outputs": [
        {
          "data": {
            "text/plain": [
              "94.2"
            ]
          },
          "execution_count": 19,
          "metadata": {},
          "output_type": "execute_result"
        }
      ],
      "source": [
        "mycyl.surface_area()"
      ]
    },
    {
      "cell_type": "markdown",
      "metadata": {
        "id": "-b3tiYiir8k0"
      },
      "source": [
        "### Problem 3\n",
        "For this challenge, create a bank account class that has two attributes:\n",
        "\n",
        "- owner\n",
        "- balance\n",
        "\n",
        "and two methods:\n",
        "\n",
        "- deposit\n",
        "- withdraw\n",
        "\n",
        "As an added requirement, withdrawals may not exceed the available balance.\n",
        "\n",
        "Instantiate your class, make several deposits and withdrawals, and test to make sure the account can't be overdrawn."
      ]
    },
    {
      "cell_type": "code",
      "execution_count": null,
      "metadata": {
        "id": "4xp_XRbmr8k1"
      },
      "outputs": [],
      "source": [
        "class Account():\n",
        "    def __init__(self,owner,balance=0):\n",
        "        self.owner = owner\n",
        "        self.balance = balance\n",
        "\n",
        "    def deposit(self,dep_amt):\n",
        "        self.balance = self.balance + dep_amt\n",
        "        print(f\"Added {dep_amt} to balance \\ntotal balance :{self.balance}\")\n",
        "\n",
        "    def withdraw(self,wdr_amt):\n",
        "        if self.balance >= wdr_amt:\n",
        "            self.balance = self.balance = wdr_amt\n",
        "            print(\"withdrawl accepted\")\n",
        "        else:\n",
        "            print(\"sorry not enough balance!\")\n",
        "\n",
        "    def __str__(self):\n",
        "        return f\"owner : {self.owner} \\nbalance: {self.balance}\""
      ]
    },
    {
      "cell_type": "code",
      "execution_count": null,
      "metadata": {
        "id": "ekmSfzVbr8k1"
      },
      "outputs": [],
      "source": [
        "# 1. Instantiate the class\n",
        "acct1 = Account('Jose',100)"
      ]
    },
    {
      "cell_type": "code",
      "execution_count": null,
      "metadata": {
        "id": "egtINiTkr8k1",
        "outputId": "11fce278-b0ce-469a-d218-2ca73dc3856f"
      },
      "outputs": [
        {
          "name": "stdout",
          "output_type": "stream",
          "text": [
            "owner : Jose \n",
            "balance: 100\n"
          ]
        }
      ],
      "source": [
        "# 2. Print the object\n",
        "print(acct1)"
      ]
    },
    {
      "cell_type": "code",
      "execution_count": null,
      "metadata": {
        "id": "SFlyNWZwr8k1",
        "outputId": "ecba7b47-481e-4b10-de47-16d36aa466bc"
      },
      "outputs": [
        {
          "data": {
            "text/plain": [
              "'Jose'"
            ]
          },
          "execution_count": 29,
          "metadata": {},
          "output_type": "execute_result"
        }
      ],
      "source": [
        "# 3. Show the account owner attribute\n",
        "acct1.owner"
      ]
    },
    {
      "cell_type": "code",
      "execution_count": null,
      "metadata": {
        "id": "PQ_TU3Y8r8k1",
        "outputId": "c8d3ab0c-a048-4b81-8639-dda36a74ed73"
      },
      "outputs": [
        {
          "data": {
            "text/plain": [
              "100"
            ]
          },
          "execution_count": 30,
          "metadata": {},
          "output_type": "execute_result"
        }
      ],
      "source": [
        "# 4. Show the account balance attribute\n",
        "acct1.balance"
      ]
    },
    {
      "cell_type": "code",
      "execution_count": null,
      "metadata": {
        "id": "RWEF5_u8r8k2",
        "outputId": "4c36d238-e91c-449d-aa2b-b3343a23f0e0"
      },
      "outputs": [
        {
          "name": "stdout",
          "output_type": "stream",
          "text": [
            "Added 50 to balance \n",
            "total balance :150\n"
          ]
        }
      ],
      "source": [
        "# 5. deposit amount\n",
        "acct1.deposit(50)"
      ]
    },
    {
      "cell_type": "code",
      "execution_count": null,
      "metadata": {
        "id": "uhwmtpjTr8k2",
        "outputId": "69e38a4d-7424-4c55-a8a8-7ab1ecbbf92b"
      },
      "outputs": [
        {
          "name": "stdout",
          "output_type": "stream",
          "text": [
            "withdrawl accepted\n"
          ]
        }
      ],
      "source": [
        "# 6. withdrawl less than total balance amount\n",
        "acct1.withdraw(75)"
      ]
    },
    {
      "cell_type": "code",
      "execution_count": null,
      "metadata": {
        "id": "pJXQDvWar8k2",
        "outputId": "7a1bc48c-ff4f-4ab2-91a7-608b46df8f99"
      },
      "outputs": [
        {
          "name": "stdout",
          "output_type": "stream",
          "text": [
            "sorry not enough balance!\n"
          ]
        }
      ],
      "source": [
        "# 7. Make a withdrawal that exceeds the available balance\n",
        "acct1.withdraw(500)"
      ]
    },
    {
      "cell_type": "code",
      "execution_count": null,
      "metadata": {
        "id": "HIO1BKzGr8k2",
        "outputId": "50d199b3-9cdd-4cca-d26e-ce204c822855"
      },
      "outputs": [
        {
          "name": "stdout",
          "output_type": "stream",
          "text": [
            "1.5\n"
          ]
        }
      ],
      "source": [
        "class MathUtils:\n",
        "\n",
        "    @staticmethod\n",
        "    def average(a, b):\n",
        "        return (a + b) / 2\n",
        "\n",
        "print(MathUtils.average(2, 1))"
      ]
    },
    {
      "cell_type": "code",
      "execution_count": null,
      "metadata": {
        "id": "LHVMNbTvr8k2"
      },
      "outputs": [],
      "source": []
    },
    {
      "cell_type": "markdown",
      "metadata": {
        "id": "jiXmvmPHr8k3"
      },
      "source": [
        "### classess and objects"
      ]
    },
    {
      "cell_type": "code",
      "execution_count": null,
      "metadata": {
        "id": "1DzA_YiIr8k3"
      },
      "outputs": [],
      "source": [
        "class Person:\n",
        "    def set_details(self, name, age):\n",
        "        self.name = name\n",
        "        self.age = age\n",
        "    def display(self):\n",
        "        print('I am ', self.name)\n",
        "    def greet(self):\n",
        "        if self.age < 80:\n",
        "            print('you are not a old person')\n",
        "        else:\n",
        "            print('you are a old person')"
      ]
    },
    {
      "cell_type": "code",
      "execution_count": null,
      "metadata": {
        "id": "DKXFSGbXr8k3",
        "outputId": "ca5d6435-75d9-4e3d-aaa9-accc9f36c0c8"
      },
      "outputs": [
        {
          "name": "stdout",
          "output_type": "stream",
          "text": [
            "I am  mack\n",
            "you are not a old person\n"
          ]
        }
      ],
      "source": [
        "p1 = Person()\n",
        "p1.set_details(\"mack\" , 31)\n",
        "p1.display()\n",
        "p1.greet()"
      ]
    },
    {
      "cell_type": "code",
      "execution_count": null,
      "metadata": {
        "id": "c6oEuDmGr8k3",
        "outputId": "3bd6b441-8327-4455-9b25-fd6e2621b53d"
      },
      "outputs": [
        {
          "name": "stdout",
          "output_type": "stream",
          "text": [
            "I am  Rishi\n",
            "you are a old person\n"
          ]
        }
      ],
      "source": [
        "p2 = Person()\n",
        "p2.set_details(\"Rishi\", 92)\n",
        "p2.display()\n",
        "p2.greet()"
      ]
    },
    {
      "cell_type": "markdown",
      "metadata": {
        "id": "H-w5JFSQr8k3"
      },
      "source": [
        "## Problem 4\n",
        "\n",
        " Make a class that represents a bank account. Create four methods named set_details, display, withdraw and deposit.\n",
        "\n",
        " In the set_details method, create two instance variables : name and balance. The default value for balance should be zero. In the display method, display the values of these two instance variables.\n",
        "\n",
        " Both the methods withdraw and deposit have amount as parameter. Inside withdraw, subtract the amount from balance and inside deposit, add the amount to the balance.\n",
        "\n",
        " Create two instances of this class and call the methods on those instances."
      ]
    },
    {
      "cell_type": "code",
      "execution_count": null,
      "metadata": {
        "id": "I5Y5xpyUr8k3"
      },
      "outputs": [],
      "source": [
        "class BankAccount:\n",
        "    def set_details(self, name, balance = 0):\n",
        "        self.name = name\n",
        "        self.balance = balance\n",
        "    def display(self):\n",
        "        print(self.name , self.balance)\n",
        "    def withdraw(self, amount):\n",
        "        self.balance -= amount\n",
        "    def deposit(self, amount):\n",
        "        self.balance += amount"
      ]
    },
    {
      "cell_type": "code",
      "execution_count": null,
      "metadata": {
        "id": "6wuNnQVPr8k3"
      },
      "outputs": [],
      "source": [
        "a= BankAccount()\n",
        "a.set_details(\"mack\", 100)\n",
        "b = BankAccount()\n",
        "b.set_details(\"Ani\" , 200)"
      ]
    },
    {
      "cell_type": "code",
      "execution_count": null,
      "metadata": {
        "id": "rw8FWRc1r8k4",
        "outputId": "a7f4e83c-b47f-4444-f983-0db4dd0539e7"
      },
      "outputs": [
        {
          "name": "stdout",
          "output_type": "stream",
          "text": [
            "mack 100\n",
            "Ani 200\n"
          ]
        }
      ],
      "source": [
        "a.display()\n",
        "b.display()"
      ]
    },
    {
      "cell_type": "code",
      "execution_count": null,
      "metadata": {
        "id": "wuxsCKqDr8k4",
        "outputId": "5a059a05-e8dc-4672-cbe8-e214c3e1d315"
      },
      "outputs": [
        {
          "name": "stdout",
          "output_type": "stream",
          "text": [
            "mack 50\n",
            "Ani 125\n"
          ]
        }
      ],
      "source": [
        "a.withdraw(50)\n",
        "b.withdraw(75)\n",
        "a.display()\n",
        "b.display()"
      ]
    },
    {
      "cell_type": "code",
      "execution_count": null,
      "metadata": {
        "id": "EuQONUs1r8k4",
        "outputId": "9a3b364c-963d-464b-9824-33755c533331"
      },
      "outputs": [
        {
          "name": "stdout",
          "output_type": "stream",
          "text": [
            "mack 550\n",
            "Ani 415\n"
          ]
        }
      ],
      "source": [
        "a.deposit(500)\n",
        "b.deposit(290)\n",
        "a.display()\n",
        "b.display()"
      ]
    },
    {
      "cell_type": "code",
      "execution_count": null,
      "metadata": {
        "id": "zlAFEWqFr8k4"
      },
      "outputs": [],
      "source": [
        "# __init__ method"
      ]
    },
    {
      "cell_type": "code",
      "execution_count": null,
      "metadata": {
        "id": "IF_wWPM7r8k4"
      },
      "outputs": [],
      "source": [
        "class Person:\n",
        "    def __init__(self, name, age):\n",
        "        self.name = name\n",
        "        self.age = age\n",
        "    def display(self):\n",
        "        print('I am ', self.name)\n",
        "    def greet(self):\n",
        "        if self.age < 80:\n",
        "            print('you are not a old person')\n",
        "        else:\n",
        "            print('you are a old person')"
      ]
    },
    {
      "cell_type": "code",
      "execution_count": null,
      "metadata": {
        "id": "Nza7iJfDr8k4",
        "outputId": "116cb14e-a7e9-4f20-9dbe-41082400a96d"
      },
      "outputs": [
        {
          "name": "stdout",
          "output_type": "stream",
          "text": [
            "I am  Mack\n",
            "you are not a old person\n"
          ]
        }
      ],
      "source": [
        "p1 = Person(\"Mack\" , 31)\n",
        "p1.display()\n",
        "p1.greet()"
      ]
    },
    {
      "cell_type": "code",
      "execution_count": null,
      "metadata": {
        "id": "bXAHYImQr8k5"
      },
      "outputs": [],
      "source": [
        "# Data hiding"
      ]
    },
    {
      "cell_type": "code",
      "execution_count": null,
      "metadata": {
        "id": "s-hos7-Kr8k5"
      },
      "outputs": [],
      "source": [
        "class Product:\n",
        "    def __init__(self):\n",
        "        self.data1 = 10\n",
        "        self._data2 = 20\n",
        "    def methodA(self):\n",
        "        pass\n",
        "    def _methodB(self):\n",
        "        pass\n",
        ""
      ]
    },
    {
      "cell_type": "code",
      "execution_count": null,
      "metadata": {
        "id": "NcPpMiR0r8k5",
        "outputId": "2bead741-3c76-4216-e845-99c2e5cd3112"
      },
      "outputs": [
        {
          "data": {
            "text/plain": [
              "10"
            ]
          },
          "execution_count": 17,
          "metadata": {},
          "output_type": "execute_result"
        }
      ],
      "source": [
        "p = Product()\n",
        "p.data1"
      ]
    },
    {
      "cell_type": "code",
      "execution_count": null,
      "metadata": {
        "id": "Szzv5fv4r8k5",
        "outputId": "9e5c17ea-bf2c-4562-9d6f-78811a5635a8"
      },
      "outputs": [
        {
          "data": {
            "text/plain": [
              "<bound method Product.methodA of <__main__.Product object at 0x00000154E2446358>>"
            ]
          },
          "execution_count": 18,
          "metadata": {},
          "output_type": "execute_result"
        }
      ],
      "source": [
        "p.methodA"
      ]
    },
    {
      "cell_type": "code",
      "execution_count": null,
      "metadata": {
        "id": "YBJa210ir8k-",
        "outputId": "4153f400-e2a1-421f-c603-c893d49a00b8"
      },
      "outputs": [
        {
          "data": {
            "text/plain": [
              "20"
            ]
          },
          "execution_count": 19,
          "metadata": {},
          "output_type": "execute_result"
        }
      ],
      "source": [
        "#single underscore(_) means data should not be accessed by the user .it is a warning. but user can accessed it\n",
        "p._data2"
      ]
    },
    {
      "cell_type": "code",
      "execution_count": null,
      "metadata": {
        "id": "V3Cti54ir8k-",
        "outputId": "80f512e7-b948-4ce1-c665-6903790a0e11"
      },
      "outputs": [
        {
          "data": {
            "text/plain": [
              "<bound method Product._methodB of <__main__.Product object at 0x00000154E2446358>>"
            ]
          },
          "execution_count": 20,
          "metadata": {},
          "output_type": "execute_result"
        }
      ],
      "source": [
        "p._methodB"
      ]
    },
    {
      "cell_type": "code",
      "execution_count": null,
      "metadata": {
        "id": "plg3ySxMr8k-"
      },
      "outputs": [],
      "source": [
        "class Product:\n",
        "    def __init__(self):\n",
        "        self.data1 = 10\n",
        "        self.__data2 = 20\n",
        "    def methodA(self):\n",
        "        pass\n",
        "    def __methodB(self):\n",
        "        pass"
      ]
    },
    {
      "cell_type": "code",
      "execution_count": null,
      "metadata": {
        "id": "EXjXWo-rr8k_"
      },
      "outputs": [],
      "source": [
        "p = Product()"
      ]
    },
    {
      "cell_type": "code",
      "execution_count": null,
      "metadata": {
        "id": "ZS1dh3_Mr8k_",
        "outputId": "baa5d684-67ec-4f95-a5b8-9694a56adaf4"
      },
      "outputs": [
        {
          "ename": "AttributeError",
          "evalue": "'Product' object has no attribute '__data2'",
          "output_type": "error",
          "traceback": [
            "\u001b[1;31m---------------------------------------------------------------------------\u001b[0m",
            "\u001b[1;31mAttributeError\u001b[0m                            Traceback (most recent call last)",
            "\u001b[1;32m<ipython-input-23-6ead01f402e2>\u001b[0m in \u001b[0;36m<module>\u001b[1;34m\u001b[0m\n\u001b[1;32m----> 1\u001b[1;33m \u001b[0mp\u001b[0m\u001b[1;33m.\u001b[0m\u001b[0m__data2\u001b[0m\u001b[1;33m\u001b[0m\u001b[1;33m\u001b[0m\u001b[0m\n\u001b[0m",
            "\u001b[1;31mAttributeError\u001b[0m: 'Product' object has no attribute '__data2'"
          ]
        }
      ],
      "source": [
        "#you can not directly access attribute and method with double underscore(__)\n",
        "p.__data2"
      ]
    },
    {
      "cell_type": "code",
      "execution_count": null,
      "metadata": {
        "id": "-3Qfhgotr8k_",
        "outputId": "d499be0e-03e4-4ec0-b70a-7155677eb7c6"
      },
      "outputs": [
        {
          "ename": "AttributeError",
          "evalue": "'Product' object has no attribute '__methodB'",
          "output_type": "error",
          "traceback": [
            "\u001b[1;31m---------------------------------------------------------------------------\u001b[0m",
            "\u001b[1;31mAttributeError\u001b[0m                            Traceback (most recent call last)",
            "\u001b[1;32m<ipython-input-24-b75b789cbd22>\u001b[0m in \u001b[0;36m<module>\u001b[1;34m\u001b[0m\n\u001b[1;32m----> 1\u001b[1;33m \u001b[0mp\u001b[0m\u001b[1;33m.\u001b[0m\u001b[0m__methodB\u001b[0m\u001b[1;33m\u001b[0m\u001b[1;33m\u001b[0m\u001b[0m\n\u001b[0m",
            "\u001b[1;31mAttributeError\u001b[0m: 'Product' object has no attribute '__methodB'"
          ]
        }
      ],
      "source": [
        "p.__methodB"
      ]
    },
    {
      "cell_type": "code",
      "execution_count": null,
      "metadata": {
        "id": "41EaD_Mdr8k_",
        "outputId": "2c4b130b-1655-4759-bc60-56700ddb21d8"
      },
      "outputs": [
        {
          "data": {
            "text/plain": [
              "['_Product__data2',\n",
              " '_Product__methodB',\n",
              " '__class__',\n",
              " '__delattr__',\n",
              " '__dict__',\n",
              " '__dir__',\n",
              " '__doc__',\n",
              " '__eq__',\n",
              " '__format__',\n",
              " '__ge__',\n",
              " '__getattribute__',\n",
              " '__gt__',\n",
              " '__hash__',\n",
              " '__init__',\n",
              " '__init_subclass__',\n",
              " '__le__',\n",
              " '__lt__',\n",
              " '__module__',\n",
              " '__ne__',\n",
              " '__new__',\n",
              " '__reduce__',\n",
              " '__reduce_ex__',\n",
              " '__repr__',\n",
              " '__setattr__',\n",
              " '__sizeof__',\n",
              " '__str__',\n",
              " '__subclasshook__',\n",
              " '__weakref__',\n",
              " 'data1',\n",
              " 'methodA']"
            ]
          },
          "execution_count": 25,
          "metadata": {},
          "output_type": "execute_result"
        }
      ],
      "source": [
        "# but you can indirectly access this\n",
        "dir(p)"
      ]
    },
    {
      "cell_type": "code",
      "execution_count": null,
      "metadata": {
        "id": "arUY9QTMr8k_",
        "outputId": "c872ff51-ae2b-4481-f76a-30b44303e148"
      },
      "outputs": [
        {
          "data": {
            "text/plain": [
              "20"
            ]
          },
          "execution_count": 26,
          "metadata": {},
          "output_type": "execute_result"
        }
      ],
      "source": [
        "p._Product__data2"
      ]
    },
    {
      "cell_type": "code",
      "execution_count": null,
      "metadata": {
        "id": "qn_2qubZr8k_",
        "outputId": "3ac5c004-0215-4c8e-8619-8457204f7ac8"
      },
      "outputs": [
        {
          "data": {
            "text/plain": [
              "<bound method Product.__methodB of <__main__.Product object at 0x00000154E24468D0>>"
            ]
          },
          "execution_count": 27,
          "metadata": {},
          "output_type": "execute_result"
        }
      ],
      "source": [
        "p._Product__methodB"
      ]
    },
    {
      "cell_type": "markdown",
      "metadata": {
        "id": "ykfSa2Trr8lA"
      },
      "source": [
        "### Property"
      ]
    },
    {
      "cell_type": "code",
      "execution_count": null,
      "metadata": {
        "id": "VBZOUVevr8lA"
      },
      "outputs": [],
      "source": [
        "class Product:\n",
        "    def __init__(self, x, y):\n",
        "        self._x = x\n",
        "        self._y = y\n",
        "    def display(self):\n",
        "        print(self._x , self._y)\n",
        "    @property\n",
        "    def value(self):\n",
        "        return self._x\n",
        "    @value.setter\n",
        "    def value(self, val):\n",
        "        self._x = val\n",
        "    @property\n",
        "    def y(self):\n",
        "        return self._y\n",
        "    @y.setter\n",
        "    def y(self, val):\n",
        "        self._y = val\n",
        ""
      ]
    },
    {
      "cell_type": "code",
      "execution_count": null,
      "metadata": {
        "id": "noEhNdikr8lA"
      },
      "outputs": [],
      "source": [
        "p= Product(10,12)"
      ]
    },
    {
      "cell_type": "code",
      "execution_count": null,
      "metadata": {
        "id": "1dVvjDZNr8lA",
        "outputId": "a0a1f2f7-3761-460d-90f3-d76b6c2d16a5"
      },
      "outputs": [
        {
          "data": {
            "text/plain": [
              "10"
            ]
          },
          "execution_count": 31,
          "metadata": {},
          "output_type": "execute_result"
        }
      ],
      "source": [
        "#using @property you get the value\n",
        "p.value"
      ]
    },
    {
      "cell_type": "code",
      "execution_count": null,
      "metadata": {
        "id": "2zbFNCYMr8lA"
      },
      "outputs": [],
      "source": [
        "#using @value.setter you can set or assign it to another value\n",
        "p.value = 15"
      ]
    },
    {
      "cell_type": "code",
      "execution_count": null,
      "metadata": {
        "id": "CpLyQsmfr8lB",
        "outputId": "55a5ee0e-90d1-4186-ec54-0328370c4176"
      },
      "outputs": [
        {
          "data": {
            "text/plain": [
              "15"
            ]
          },
          "execution_count": 33,
          "metadata": {},
          "output_type": "execute_result"
        }
      ],
      "source": [
        "p.value"
      ]
    },
    {
      "cell_type": "code",
      "execution_count": null,
      "metadata": {
        "id": "RE2xAev0r8lB",
        "outputId": "333314d2-f092-467d-c245-7f36e0450af0"
      },
      "outputs": [
        {
          "data": {
            "text/plain": [
              "12"
            ]
          },
          "execution_count": 36,
          "metadata": {},
          "output_type": "execute_result"
        }
      ],
      "source": [
        "p.y"
      ]
    },
    {
      "cell_type": "code",
      "execution_count": null,
      "metadata": {
        "id": "xFKsDqc0r8lB",
        "outputId": "17524252-b49a-4490-fa35-1e4c185e32ef"
      },
      "outputs": [
        {
          "data": {
            "text/plain": [
              "25"
            ]
          },
          "execution_count": 37,
          "metadata": {},
          "output_type": "execute_result"
        }
      ],
      "source": [
        "p.y = 25\n",
        "p.y"
      ]
    },
    {
      "cell_type": "markdown",
      "metadata": {
        "id": "_OFMz4Ucr8lB"
      },
      "source": [
        "## Problem 5\n",
        "In the BankAccount class that you had created in the problem 4 , delete the set_details() method and create an __init__ method."
      ]
    },
    {
      "cell_type": "code",
      "execution_count": null,
      "metadata": {
        "id": "NnL1v-wEr8lB"
      },
      "outputs": [],
      "source": [
        "class BankAccount:\n",
        "    def __init__(self, name, balance = 0):\n",
        "        self.name = name\n",
        "        self.balance = balance\n",
        "    def display(self):\n",
        "        print(self.name , self.balance)\n",
        "    def withdraw(self, amount):\n",
        "        self.balance -= amount\n",
        "    def deposit(self, amount):\n",
        "        self.balance += amount"
      ]
    },
    {
      "cell_type": "code",
      "execution_count": null,
      "metadata": {
        "id": "1cwrCX38r8lC"
      },
      "outputs": [],
      "source": [
        "a= BankAccount(\"ram\", 1000)\n",
        "b= BankAccount(\"rohit\" , 500)"
      ]
    },
    {
      "cell_type": "code",
      "execution_count": null,
      "metadata": {
        "id": "kdcjI0_Zr8lC",
        "outputId": "46c27b94-655a-4b6c-9133-90a4b3807418"
      },
      "outputs": [
        {
          "name": "stdout",
          "output_type": "stream",
          "text": [
            "ram 1000\n",
            "rohit 500\n"
          ]
        }
      ],
      "source": [
        "a.display()\n",
        "b.display()"
      ]
    },
    {
      "cell_type": "code",
      "execution_count": null,
      "metadata": {
        "id": "MpEyTh_Br8lC"
      },
      "outputs": [],
      "source": [
        "a.withdraw(100)\n",
        "b.withdraw(80)"
      ]
    },
    {
      "cell_type": "code",
      "execution_count": null,
      "metadata": {
        "id": "4Yj0AAbgr8lC",
        "outputId": "a197cab6-2c3d-437b-a5aa-08d2c75b4004"
      },
      "outputs": [
        {
          "name": "stdout",
          "output_type": "stream",
          "text": [
            "ram 900\n",
            "rohit 420\n"
          ]
        }
      ],
      "source": [
        "a.display()\n",
        "b.display()"
      ]
    },
    {
      "cell_type": "code",
      "execution_count": null,
      "metadata": {
        "id": "TuGi1vijr8lC",
        "outputId": "df9506a3-8690-46a9-aa00-e0557354508c"
      },
      "outputs": [
        {
          "name": "stdout",
          "output_type": "stream",
          "text": [
            "ram 1150\n",
            "rohit 520\n"
          ]
        }
      ],
      "source": [
        "a.deposit(250)\n",
        "b.deposit(100)\n",
        "a.display()\n",
        "b.display()"
      ]
    },
    {
      "cell_type": "markdown",
      "metadata": {
        "id": "5oJG1d5Rr8lC"
      },
      "source": [
        "# Problem 6\n",
        "Create a class named Book with an __init__ method. Inside the __init__ method, create the instance variables isbn, title, author, publisher, pages, price, copies.\n",
        "\n",
        "Create these four instance objects from this class.\n",
        "\n",
        "book1 = Book('957-4-36-547417-1', 'Learn Physics','Stephen', 'CBC', 350, 200,10)\n",
        "book2 = Book('652-6-86-748413-3', 'Learn Chemistry','Jack', 'CBC', 400, 220,20)\n",
        "book3 = Book('957-7-39-347216-2', 'Learn Maths','John', 'XYZ', 500, 300,5)\n",
        "book4 = Book('957-7-39-347216-2', 'Learn Biology','Jack', 'XYZ', 400, 200,6)\n",
        "Write a method display that prints the isbn, title, price and number of copies of the book."
      ]
    },
    {
      "cell_type": "code",
      "execution_count": null,
      "metadata": {
        "id": "8rEIQrAjr8lD",
        "outputId": "93437bb8-3ea2-4b0e-dbfd-fe250c37e298"
      },
      "outputs": [
        {
          "name": "stdout",
          "output_type": "stream",
          "text": [
            "Learn Physics\n",
            "ISBN: 957-4-36-547417-1\n",
            "Price: 200\n",
            "Number of copies: 10\n",
            "..................................................\n",
            "Learn Chemistry\n",
            "ISBN: 652-6-86-748413-3\n",
            "Price: 220\n",
            "Number of copies: 20\n",
            "..................................................\n",
            "Learn Maths\n",
            "ISBN: 957-7-39-347216-2\n",
            "Price: 300\n",
            "Number of copies: 5\n",
            "..................................................\n",
            "Learn Biology\n",
            "ISBN: 957-7-39-347216-2\n",
            "Price: 200\n",
            "Number of copies: 6\n",
            "..................................................\n"
          ]
        }
      ],
      "source": [
        "class Book:\n",
        "    def __init__(self, isbn, title, author, publisher, pages, price, copies):\n",
        "        self.isbn = isbn\n",
        "        self.title = title\n",
        "        self.author = author\n",
        "        self.publisher = publisher\n",
        "        self.pages = pages\n",
        "        self.price = price\n",
        "        self.copies = copies\n",
        "\n",
        "    def display(self):\n",
        "        print(self.title)\n",
        "        print(f'ISBN: {self.isbn}')\n",
        "        print(f'Price: {self.price}')\n",
        "        print(f'Number of copies: {self.copies}')\n",
        "        print('.' * 50)\n",
        "\n",
        "book1 = Book('957-4-36-547417-1', 'Learn Physics','Stephen', 'CBC', 350, 200,10)\n",
        "book2 = Book('652-6-86-748413-3', 'Learn Chemistry','Jack', 'CBC', 400, 220,20)\n",
        "book3 = Book('957-7-39-347216-2', 'Learn Maths','John', 'XYZ', 500, 300,5)\n",
        "book4 = Book('957-7-39-347216-2', 'Learn Biology','Jack', 'XYZ', 400, 200,6)\n",
        "\n",
        "book1.display()\n",
        "book2.display()\n",
        "book3.display()\n",
        "book4.display()"
      ]
    },
    {
      "cell_type": "markdown",
      "metadata": {
        "id": "40ep9r2qr8lD"
      },
      "source": [
        "## Problem 7\n",
        "For the Book class that you have created, write a method named in_stock that returns True if number of copies is more than zero, otherwise it returns False.\n",
        "\n",
        "Create another method named sell that decreases the number of copies by 1 if the book is in stock, otherwise it prints the message that the book is out of stock."
      ]
    },
    {
      "cell_type": "code",
      "execution_count": null,
      "metadata": {
        "id": "DfhjTfkjr8lD"
      },
      "outputs": [],
      "source": [
        "class Book:\n",
        "    def __init__(self, isbn, title, author, publisher, pages, price, copies):\n",
        "        self.isbn = isbn\n",
        "        self.title = title\n",
        "        self.author = author\n",
        "        self.publisher = publisher\n",
        "        self.pages = pages\n",
        "        self.price = price\n",
        "        self.copies = copies\n",
        "\n",
        "    def display(self):\n",
        "        print(self.title)\n",
        "        print(f'ISBN: {self.isbn}')\n",
        "        print(f'Price: {self.price}')\n",
        "        print(f'Number of copies: {self.copies}')\n",
        "        print('.' * 50)\n",
        "\n",
        "    def in_stock(self):\n",
        "        return True if self.copies>0 else False\n",
        "\n",
        "    def sell(self):\n",
        "        if self.in_stock():\n",
        "            self.copies -= 1\n",
        "        else:\n",
        "            print(\"the book is out of stock\")"
      ]
    },
    {
      "cell_type": "code",
      "execution_count": null,
      "metadata": {
        "id": "gv0x8p2yr8lD",
        "outputId": "e0eeaab4-5127-4017-d27a-8e8cedeed57d"
      },
      "outputs": [
        {
          "ename": "AttributeError",
          "evalue": "'Book' object has no attribute 'in_stock'",
          "output_type": "error",
          "traceback": [
            "\u001b[1;31m---------------------------------------------------------------------------\u001b[0m",
            "\u001b[1;31mAttributeError\u001b[0m                            Traceback (most recent call last)",
            "\u001b[1;32m<ipython-input-6-8626b00efaa5>\u001b[0m in \u001b[0;36m<module>\u001b[1;34m\u001b[0m\n\u001b[1;32m----> 1\u001b[1;33m \u001b[0mbook1\u001b[0m\u001b[1;33m.\u001b[0m\u001b[0min_stock\u001b[0m\u001b[1;33m(\u001b[0m\u001b[1;33m)\u001b[0m\u001b[1;33m\u001b[0m\u001b[1;33m\u001b[0m\u001b[0m\n\u001b[0m",
            "\u001b[1;31mAttributeError\u001b[0m: 'Book' object has no attribute 'in_stock'"
          ]
        }
      ],
      "source": [
        "book1.in_stock()"
      ]
    },
    {
      "cell_type": "code",
      "execution_count": null,
      "metadata": {
        "id": "jxHitY80r8lD",
        "outputId": "4854b04e-6992-4290-e43a-c7c54ff38251"
      },
      "outputs": [
        {
          "data": {
            "text/plain": [
              "['__class__',\n",
              " '__delattr__',\n",
              " '__dict__',\n",
              " '__dir__',\n",
              " '__doc__',\n",
              " '__eq__',\n",
              " '__format__',\n",
              " '__ge__',\n",
              " '__getattribute__',\n",
              " '__gt__',\n",
              " '__hash__',\n",
              " '__init__',\n",
              " '__init_subclass__',\n",
              " '__le__',\n",
              " '__lt__',\n",
              " '__module__',\n",
              " '__ne__',\n",
              " '__new__',\n",
              " '__reduce__',\n",
              " '__reduce_ex__',\n",
              " '__repr__',\n",
              " '__setattr__',\n",
              " '__sizeof__',\n",
              " '__str__',\n",
              " '__subclasshook__',\n",
              " '__weakref__',\n",
              " 'display',\n",
              " 'in_stock',\n",
              " 'sell']"
            ]
          },
          "execution_count": 16,
          "metadata": {},
          "output_type": "execute_result"
        }
      ],
      "source": [
        "dir(Book)"
      ]
    },
    {
      "cell_type": "markdown",
      "metadata": {
        "id": "mn9zti0Hr8lE"
      },
      "source": [
        "## Problem 8\n",
        "Create a list named books that contains the 4 Book instance objects that you have created in question 2. Iterate over this list using a for loop and call display() for each object in the list.\n",
        "\n",
        "Write a list comprehension to create another list that contains title of books written by Jack."
      ]
    },
    {
      "cell_type": "code",
      "execution_count": null,
      "metadata": {
        "id": "hYTjoi6Jr8lE"
      },
      "outputs": [],
      "source": []
    },
    {
      "cell_type": "code",
      "execution_count": null,
      "metadata": {
        "id": "4JWQiZ1rr8lE"
      },
      "outputs": [],
      "source": []
    },
    {
      "cell_type": "code",
      "execution_count": null,
      "metadata": {
        "id": "bEiv2X8Mr8lE"
      },
      "outputs": [],
      "source": []
    },
    {
      "cell_type": "code",
      "execution_count": null,
      "metadata": {
        "id": "bKXDOHvYr8lE"
      },
      "outputs": [],
      "source": []
    },
    {
      "cell_type": "code",
      "execution_count": null,
      "metadata": {
        "id": "adLDuO83r8lE"
      },
      "outputs": [],
      "source": []
    },
    {
      "cell_type": "code",
      "execution_count": null,
      "metadata": {
        "id": "9fZCCykJr8lE"
      },
      "outputs": [],
      "source": []
    },
    {
      "cell_type": "code",
      "execution_count": null,
      "metadata": {
        "id": "ybNQil2or8lF"
      },
      "outputs": [],
      "source": []
    },
    {
      "cell_type": "code",
      "execution_count": null,
      "metadata": {
        "id": "yaeANP2wr8lF"
      },
      "outputs": [],
      "source": []
    },
    {
      "cell_type": "code",
      "execution_count": null,
      "metadata": {
        "id": "cpdZKsNLr8lF"
      },
      "outputs": [],
      "source": []
    }
  ],
  "metadata": {
    "kernelspec": {
      "display_name": "Python 3",
      "language": "python",
      "name": "python3"
    },
    "language_info": {
      "codemirror_mode": {
        "name": "ipython",
        "version": 3
      },
      "file_extension": ".py",
      "mimetype": "text/x-python",
      "name": "python",
      "nbconvert_exporter": "python",
      "pygments_lexer": "ipython3",
      "version": "3.7.3"
    },
    "colab": {
      "provenance": [],
      "include_colab_link": true
    }
  },
  "nbformat": 4,
  "nbformat_minor": 0
}