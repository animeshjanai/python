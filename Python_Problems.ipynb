{
  "nbformat": 4,
  "nbformat_minor": 0,
  "metadata": {
    "colab": {
      "provenance": [],
      "authorship_tag": "ABX9TyOkTs6ueMg8fWjS73he86uL",
      "include_colab_link": true
    },
    "kernelspec": {
      "name": "python3",
      "display_name": "Python 3"
    }
  },
  "cells": [
    {
      "cell_type": "markdown",
      "metadata": {
        "id": "view-in-github",
        "colab_type": "text"
      },
      "source": [
        "<a href=\"https://colab.research.google.com/github/animeshjanai/python/blob/main/Python_Problems.ipynb\" target=\"_parent\"><img src=\"https://colab.research.google.com/assets/colab-badge.svg\" alt=\"Open In Colab\"/></a>"
      ]
    },
    {
      "cell_type": "code",
      "source": [
        "# 1. Given two integer numbers return their product only if the product is equal to or lower than 1000, else return their sum."
      ],
      "metadata": {
        "id": "J88Qc7xHrH3z"
      },
      "execution_count": null,
      "outputs": []
    },
    {
      "cell_type": "code",
      "source": [
        "def multi_add(a,b):\n",
        "  product = a*b\n",
        "  if product < 1000:\n",
        "    return product\n",
        "  else:\n",
        "    return a+b"
      ],
      "metadata": {
        "id": "8Me8J59mrQ4F"
      },
      "execution_count": null,
      "outputs": []
    },
    {
      "cell_type": "code",
      "source": [
        "result = multi_add(20,30)\n",
        "print(f\"The result is: {result}\")"
      ],
      "metadata": {
        "colab": {
          "base_uri": "https://localhost:8080/"
        },
        "id": "6b-llcxMrR-F",
        "outputId": "ab3c1cc5-595b-44ed-a7cd-e8c46ba76ffe"
      },
      "execution_count": null,
      "outputs": [
        {
          "output_type": "stream",
          "name": "stdout",
          "text": [
            "The result is: 600\n"
          ]
        }
      ]
    },
    {
      "cell_type": "code",
      "source": [
        "result1 = multi_add(30,40)\n",
        "print(\"The result is \", result1)"
      ],
      "metadata": {
        "colab": {
          "base_uri": "https://localhost:8080/"
        },
        "id": "JpU_17g6rSOG",
        "outputId": "5ed5dda1-bbab-4992-cdb4-22fbdff6a159"
      },
      "execution_count": null,
      "outputs": [
        {
          "output_type": "stream",
          "name": "stdout",
          "text": [
            "The result is  70\n"
          ]
        }
      ]
    },
    {
      "cell_type": "code",
      "source": [
        "# 2. Write a program to iterate the first 10 numbers and in each iteration, print the sum of the current and previous number"
      ],
      "metadata": {
        "id": "ZUUKzbMHrSaE"
      },
      "execution_count": null,
      "outputs": []
    },
    {
      "cell_type": "code",
      "source": [
        "previous_num = 0\n",
        "for i in range(1,11):\n",
        "  sum1 = previous_num + i\n",
        "  print(\"current number: \", i , \"Previous Number: \", previous_num, \"Sum: \", sum1)\n",
        "  previous_num = i\n"
      ],
      "metadata": {
        "colab": {
          "base_uri": "https://localhost:8080/"
        },
        "id": "NS3nqtNVrSlV",
        "outputId": "37601d8d-9f95-4cca-acbb-5947e1955171"
      },
      "execution_count": null,
      "outputs": [
        {
          "output_type": "stream",
          "name": "stdout",
          "text": [
            "current number:  1 Previous Number:  0 Sum:  1\n",
            "current number:  2 Previous Number:  1 Sum:  3\n",
            "current number:  3 Previous Number:  2 Sum:  5\n",
            "current number:  4 Previous Number:  3 Sum:  7\n",
            "current number:  5 Previous Number:  4 Sum:  9\n",
            "current number:  6 Previous Number:  5 Sum:  11\n",
            "current number:  7 Previous Number:  6 Sum:  13\n",
            "current number:  8 Previous Number:  7 Sum:  15\n",
            "current number:  9 Previous Number:  8 Sum:  17\n",
            "current number:  10 Previous Number:  9 Sum:  19\n"
          ]
        }
      ]
    },
    {
      "cell_type": "code",
      "source": [
        "# 3. Write a program to accept a string from the user and display characters that are present at an even index number."
      ],
      "metadata": {
        "id": "vrLCCSjYrSwD"
      },
      "execution_count": null,
      "outputs": []
    },
    {
      "cell_type": "code",
      "source": [
        "word = input(\"enter word: \")\n",
        "print(\"our word is: \", word)\n",
        "size = len(word)\n",
        "for i in range(0, size-1, 2):\n",
        "  print(word[i])\n"
      ],
      "metadata": {
        "colab": {
          "base_uri": "https://localhost:8080/"
        },
        "id": "PYfBph0erS6W",
        "outputId": "d1cb4973-df29-48d5-e208-78fed5ef03bc"
      },
      "execution_count": null,
      "outputs": [
        {
          "output_type": "stream",
          "name": "stdout",
          "text": [
            "enter word: animeshdutta\n",
            "our word is:  animeshdutta\n",
            "a\n",
            "i\n",
            "e\n",
            "h\n",
            "u\n",
            "t\n"
          ]
        }
      ]
    },
    {
      "cell_type": "code",
      "source": [
        "# using list slicing\n",
        "word = input(\"enter word; \")\n",
        "x = list(word)\n",
        "for i in x[0::2]:\n",
        "  print(i)"
      ],
      "metadata": {
        "colab": {
          "base_uri": "https://localhost:8080/"
        },
        "id": "XjH4HadorTGF",
        "outputId": "8258c303-e590-4e26-b320-e6c5f557a857"
      },
      "execution_count": null,
      "outputs": [
        {
          "output_type": "stream",
          "name": "stdout",
          "text": [
            "enter word; animeshdutta\n",
            "a\n",
            "i\n",
            "e\n",
            "h\n",
            "u\n",
            "t\n"
          ]
        }
      ]
    },
    {
      "cell_type": "code",
      "source": [
        "# 4. Write a program to remove characters from a string starting from zero up to n and return a new string.\n",
        "def remove_char(word, n):\n",
        "  print(\"Original string: \", word)\n",
        "  x = word[n:]\n",
        "  return x"
      ],
      "metadata": {
        "id": "iB2bZUWGrTzX"
      },
      "execution_count": null,
      "outputs": []
    },
    {
      "cell_type": "code",
      "source": [
        "remove_char(\"abcdefghijkl\", 5)"
      ],
      "metadata": {
        "colab": {
          "base_uri": "https://localhost:8080/",
          "height": 53
        },
        "id": "jiY31QFkz3Xv",
        "outputId": "9dd7d815-890a-447d-f856-f31ab5cf4288"
      },
      "execution_count": null,
      "outputs": [
        {
          "output_type": "stream",
          "name": "stdout",
          "text": [
            "Original string:  abcdefghijkl\n"
          ]
        },
        {
          "output_type": "execute_result",
          "data": {
            "text/plain": [
              "'fghijkl'"
            ],
            "application/vnd.google.colaboratory.intrinsic+json": {
              "type": "string"
            }
          },
          "metadata": {},
          "execution_count": 25
        }
      ]
    },
    {
      "cell_type": "code",
      "source": [
        "# 5. Write a function to return True if the first and last number of a given list is same. If numbers are different then return False.\n",
        "def first_last_same(x):\n",
        "  print(\"the actual list: \", x)\n",
        "  first_num = x[0]\n",
        "  last_num = x[-1]\n",
        "  if first_num == last_num:\n",
        "    return True\n",
        "  else:\n",
        "    return False"
      ],
      "metadata": {
        "id": "oL1-VpFqz3fd"
      },
      "execution_count": null,
      "outputs": []
    },
    {
      "cell_type": "code",
      "source": [
        "list1 = [10,25,20,35,10]\n",
        "first_last_same(list1)"
      ],
      "metadata": {
        "colab": {
          "base_uri": "https://localhost:8080/"
        },
        "id": "DLiKO4hiz3n0",
        "outputId": "94a81608-3f7a-418d-9293-bc80cfecaa4f"
      },
      "execution_count": null,
      "outputs": [
        {
          "output_type": "stream",
          "name": "stdout",
          "text": [
            "the actual list:  [10, 25, 20, 35, 10]\n"
          ]
        },
        {
          "output_type": "execute_result",
          "data": {
            "text/plain": [
              "True"
            ]
          },
          "metadata": {},
          "execution_count": 27
        }
      ]
    },
    {
      "cell_type": "code",
      "source": [
        "list2 = [1,2,3,4,5,6]\n",
        "first_last_same(list2)"
      ],
      "metadata": {
        "colab": {
          "base_uri": "https://localhost:8080/"
        },
        "id": "A-P91C01z3vl",
        "outputId": "1755b048-8d01-4160-a92c-31bb7d918039"
      },
      "execution_count": null,
      "outputs": [
        {
          "output_type": "stream",
          "name": "stdout",
          "text": [
            "the actual list:  [1, 2, 3, 4, 5, 6]\n"
          ]
        },
        {
          "output_type": "execute_result",
          "data": {
            "text/plain": [
              "False"
            ]
          },
          "metadata": {},
          "execution_count": 28
        }
      ]
    },
    {
      "cell_type": "code",
      "source": [
        "# 6. Iterate the given list of numbers and print only those numbers which are divisible by 5\n",
        "def div_by_five(x):\n",
        "  print(\"the actual list is: \", x)\n",
        "  for i in x:\n",
        "    if i%5 == 0:\n",
        "      print(i)"
      ],
      "metadata": {
        "id": "PbdCFsf2z33U"
      },
      "execution_count": null,
      "outputs": []
    },
    {
      "cell_type": "code",
      "source": [
        "list1 = [4,5,9,10,12,15,25]\n",
        "div_by_five(list1)"
      ],
      "metadata": {
        "id": "UJriEHZZz3-j",
        "colab": {
          "base_uri": "https://localhost:8080/"
        },
        "outputId": "78cc5e28-0fce-4610-ab8d-1f63d5da1541"
      },
      "execution_count": null,
      "outputs": [
        {
          "output_type": "stream",
          "name": "stdout",
          "text": [
            "the actual list is:  [4, 5, 9, 10, 12, 15, 25]\n",
            "5\n",
            "10\n",
            "15\n",
            "25\n"
          ]
        }
      ]
    },
    {
      "cell_type": "code",
      "source": [
        "# 7. Return the count of a given substring from a string\n",
        "#    Write a program to find how many times substring “Emma” appears in the given string.\n",
        "# using string method\n",
        "\n",
        "str1 = \"Emma is good developer. Emma is a writer\"\n",
        "\n",
        "print(str1.count(\"Emma\"))"
      ],
      "metadata": {
        "colab": {
          "base_uri": "https://localhost:8080/"
        },
        "id": "MpMOe8KGQys5",
        "outputId": "dab6e3d5-1b8d-4893-ea37-d026a666286c"
      },
      "execution_count": null,
      "outputs": [
        {
          "output_type": "stream",
          "name": "stdout",
          "text": [
            "2\n"
          ]
        }
      ]
    },
    {
      "cell_type": "code",
      "source": [
        "# without string method\n",
        "def count_emma(statement):\n",
        "  count = 0\n",
        "  for i in range(len(statement)-1):\n",
        "    count += statement[i:i+4] == \"Emma\"\n",
        "  return count"
      ],
      "metadata": {
        "id": "WsXx-puDQy04"
      },
      "execution_count": null,
      "outputs": []
    },
    {
      "cell_type": "code",
      "source": [
        "str1 = \"Emma is good developer. Emma is a writer\"\n",
        "count_emma(str1)"
      ],
      "metadata": {
        "colab": {
          "base_uri": "https://localhost:8080/"
        },
        "id": "WmA9WSKfQy7H",
        "outputId": "c1ca4716-9d1c-4f71-d866-a587bb266376"
      },
      "execution_count": null,
      "outputs": [
        {
          "output_type": "execute_result",
          "data": {
            "text/plain": [
              "2"
            ]
          },
          "metadata": {},
          "execution_count": 36
        }
      ]
    },
    {
      "cell_type": "code",
      "source": [
        "# 8. Write a program to check if the given number is a palindrome number.\n",
        "# note: A palindrome number is a number that is same after reverse. For example 545, is the palindrome numbers\n",
        "\n",
        "def palindrome(number):\n",
        "  print(\"original number: \", number)\n",
        "  original_number = number\n",
        "  reverse_num = 0\n",
        "  while number>0:\n",
        "    remainder = number%10\n",
        "    reverse_num = reverse_num*10 + remainder\n",
        "    number = number//10\n",
        "  if original_number == reverse_num:\n",
        "    print(\"given number is palindrome\")\n",
        "  else:\n",
        "    print(\"not palindrome\")"
      ],
      "metadata": {
        "id": "Ef07smiHQzA3"
      },
      "execution_count": null,
      "outputs": []
    },
    {
      "cell_type": "code",
      "source": [
        "palindrome(800)"
      ],
      "metadata": {
        "colab": {
          "base_uri": "https://localhost:8080/"
        },
        "id": "cZzEGRAMQzGX",
        "outputId": "1c6b2a89-a8ee-46d4-9ea2-62ccc2a19bbd"
      },
      "execution_count": null,
      "outputs": [
        {
          "output_type": "stream",
          "name": "stdout",
          "text": [
            "original number:  800\n",
            "not palindrome\n"
          ]
        }
      ]
    },
    {
      "cell_type": "code",
      "source": [
        "# 9. Check how many times a given number can be divided by 3 before it is less than or equal to 10.\n",
        "\n",
        "count = 0\n",
        "number = int(input(\"enter the number: \"))\n",
        "while number > 10:\n",
        "  number = number/3\n",
        "  count = count + 1\n",
        "print(\"no of count: \", count)"
      ],
      "metadata": {
        "colab": {
          "base_uri": "https://localhost:8080/"
        },
        "id": "mv-PL-AVQzLa",
        "outputId": "1439b02b-2eae-476f-b641-857e4451324e"
      },
      "execution_count": 1,
      "outputs": [
        {
          "output_type": "stream",
          "name": "stdout",
          "text": [
            "enter the number: 273\n",
            "no of count:  4\n"
          ]
        }
      ]
    },
    {
      "cell_type": "code",
      "source": [
        "# 10. we want a user to enter any number between 100 and 500. We will keep asking the user to enter a correct input until he/she enters the number within a given range.\n",
        "\n",
        "num = int(input(\"enter any number between 100 and 500: \"))\n",
        "while num < 100 or num > 500:\n",
        "  print(\"please enter the correct number\")\n",
        "  num = int(input(\"enter any number between 100 and 500: \"))\n",
        "else:\n",
        "  print(\"the number is correct\")"
      ],
      "metadata": {
        "id": "_BuZ49QBQzQX",
        "colab": {
          "base_uri": "https://localhost:8080/"
        },
        "outputId": "f5ff4fc9-7413-4f74-fed2-81cd43ca76b9"
      },
      "execution_count": 2,
      "outputs": [
        {
          "output_type": "stream",
          "name": "stdout",
          "text": [
            "enter any number between 100 and 500: 5\n",
            "please enter the correct number\n",
            "enter any number between 100 and 500: 1000\n",
            "please enter the correct number\n",
            "enter any number between 100 and 500: 501\n",
            "please enter the correct number\n",
            "enter any number between 100 and 500: 99\n",
            "please enter the correct number\n",
            "enter any number between 100 and 500: 100\n",
            "the number is correct\n"
          ]
        }
      ]
    },
    {
      "cell_type": "code",
      "source": [
        "# 11. Print even and odd numbers between 1 to the entered number\n",
        "\n",
        "a = int(input(\"please enter the number\"))\n",
        "while a>0:\n",
        "  if a%2 == 0:\n",
        "    print(a, \" is even\")\n",
        "  else:\n",
        "    print(a, \" is odd\")\n",
        "  a=a-1"
      ],
      "metadata": {
        "id": "0Ai-oKHYQzVI",
        "colab": {
          "base_uri": "https://localhost:8080/"
        },
        "outputId": "9769cdf6-bd05-4a12-c624-70ae8e4e239d"
      },
      "execution_count": 4,
      "outputs": [
        {
          "output_type": "stream",
          "name": "stdout",
          "text": [
            "please enter the number10\n",
            "10  is even\n",
            "9  is odd\n",
            "8  is even\n",
            "7  is odd\n",
            "6  is even\n",
            "5  is odd\n",
            "4  is even\n",
            "3  is odd\n",
            "2  is even\n",
            "1  is odd\n"
          ]
        }
      ]
    },
    {
      "cell_type": "code",
      "source": [
        "# 12. Print even and odd numbers between 1 to the entered number.\n",
        "\n",
        "name = input(\"enter the name: \")\n",
        "size = len(name)\n",
        "i = 0\n",
        "while i < size:\n",
        "  if name[i].isdecimal():\n",
        "    break\n",
        "  print(name[i], end = '')\n",
        "  i = i + 1"
      ],
      "metadata": {
        "id": "u7fLHE4BQzZn",
        "colab": {
          "base_uri": "https://localhost:8080/"
        },
        "outputId": "fd2a2c75-1212-4333-b94b-b376c3923907"
      },
      "execution_count": 11,
      "outputs": [
        {
          "output_type": "stream",
          "name": "stdout",
          "text": [
            "enter the name: animesh91 kjhjhfh\n",
            "animesh"
          ]
        }
      ]
    },
    {
      "cell_type": "code",
      "source": [
        "# 13. Write a while loop to display only alphabets from a string.\n",
        "\n",
        "name = input()\n",
        "size = len(name)\n",
        "i = -1\n",
        "while i < size-1:\n",
        "  i = i+1\n",
        "  if name[i].isdecimal():\n",
        "    continue\n",
        "  print(name[i], end='')"
      ],
      "metadata": {
        "id": "g-PnTf9wQzec",
        "colab": {
          "base_uri": "https://localhost:8080/"
        },
        "outputId": "cfd99c7f-7c54-4d04-c9b0-bcdaaaa7f297"
      },
      "execution_count": 14,
      "outputs": [
        {
          "output_type": "stream",
          "name": "stdout",
          "text": [
            "animesh91dutta\n",
            "animeshdutta"
          ]
        }
      ]
    },
    {
      "cell_type": "code",
      "source": [],
      "metadata": {
        "id": "Fejinxi5z4F0",
        "colab": {
          "base_uri": "https://localhost:8080/"
        },
        "outputId": "948fd4f5-dd19-4003-89e7-2fd6b0e53f33"
      },
      "execution_count": 6,
      "outputs": [
        {
          "output_type": "execute_result",
          "data": {
            "text/plain": [
              "str"
            ]
          },
          "metadata": {},
          "execution_count": 6
        }
      ]
    },
    {
      "cell_type": "code",
      "source": [],
      "metadata": {
        "id": "_ENbS9Mmz4Mz"
      },
      "execution_count": null,
      "outputs": []
    }
  ]
}