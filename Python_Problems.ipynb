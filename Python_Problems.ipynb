{
  "nbformat": 4,
  "nbformat_minor": 0,
  "metadata": {
    "colab": {
      "provenance": [],
      "authorship_tag": "ABX9TyPOV5kJfYPciHvwKyBMRC6k",
      "include_colab_link": true
    },
    "kernelspec": {
      "name": "python3",
      "display_name": "Python 3"
    }
  },
  "cells": [
    {
      "cell_type": "markdown",
      "metadata": {
        "id": "view-in-github",
        "colab_type": "text"
      },
      "source": [
        "<a href=\"https://colab.research.google.com/github/animeshjanai/python/blob/main/Python_Problems.ipynb\" target=\"_parent\"><img src=\"https://colab.research.google.com/assets/colab-badge.svg\" alt=\"Open In Colab\"/></a>"
      ]
    },
    {
      "cell_type": "code",
      "source": [
        "# 1. Given two integer numbers return their product only if the product is equal to or lower than 1000, else return their sum."
      ],
      "metadata": {
        "id": "J88Qc7xHrH3z"
      },
      "execution_count": null,
      "outputs": []
    },
    {
      "cell_type": "code",
      "source": [
        "def multi_add(a,b):\n",
        "  product = a*b\n",
        "  if product < 1000:\n",
        "    return product\n",
        "  else:\n",
        "    return a+b"
      ],
      "metadata": {
        "id": "8Me8J59mrQ4F"
      },
      "execution_count": null,
      "outputs": []
    },
    {
      "cell_type": "code",
      "source": [
        "result = multi_add(20,30)\n",
        "print(f\"The result is: {result}\")"
      ],
      "metadata": {
        "colab": {
          "base_uri": "https://localhost:8080/"
        },
        "id": "6b-llcxMrR-F",
        "outputId": "ab3c1cc5-595b-44ed-a7cd-e8c46ba76ffe"
      },
      "execution_count": null,
      "outputs": [
        {
          "output_type": "stream",
          "name": "stdout",
          "text": [
            "The result is: 600\n"
          ]
        }
      ]
    },
    {
      "cell_type": "code",
      "source": [
        "result1 = multi_add(30,40)\n",
        "print(\"The result is \", result1)"
      ],
      "metadata": {
        "colab": {
          "base_uri": "https://localhost:8080/"
        },
        "id": "JpU_17g6rSOG",
        "outputId": "5ed5dda1-bbab-4992-cdb4-22fbdff6a159"
      },
      "execution_count": null,
      "outputs": [
        {
          "output_type": "stream",
          "name": "stdout",
          "text": [
            "The result is  70\n"
          ]
        }
      ]
    },
    {
      "cell_type": "code",
      "source": [
        "# 2. Write a program to iterate the first 10 numbers and in each iteration, print the sum of the current and previous number"
      ],
      "metadata": {
        "id": "ZUUKzbMHrSaE"
      },
      "execution_count": null,
      "outputs": []
    },
    {
      "cell_type": "code",
      "source": [
        "previous_num = 0\n",
        "for i in range(1,11):\n",
        "  sum1 = previous_num + i\n",
        "  print(\"current number: \", i , \"Previous Number: \", previous_num, \"Sum: \", sum1)\n",
        "  previous_num = i\n"
      ],
      "metadata": {
        "colab": {
          "base_uri": "https://localhost:8080/"
        },
        "id": "NS3nqtNVrSlV",
        "outputId": "37601d8d-9f95-4cca-acbb-5947e1955171"
      },
      "execution_count": null,
      "outputs": [
        {
          "output_type": "stream",
          "name": "stdout",
          "text": [
            "current number:  1 Previous Number:  0 Sum:  1\n",
            "current number:  2 Previous Number:  1 Sum:  3\n",
            "current number:  3 Previous Number:  2 Sum:  5\n",
            "current number:  4 Previous Number:  3 Sum:  7\n",
            "current number:  5 Previous Number:  4 Sum:  9\n",
            "current number:  6 Previous Number:  5 Sum:  11\n",
            "current number:  7 Previous Number:  6 Sum:  13\n",
            "current number:  8 Previous Number:  7 Sum:  15\n",
            "current number:  9 Previous Number:  8 Sum:  17\n",
            "current number:  10 Previous Number:  9 Sum:  19\n"
          ]
        }
      ]
    },
    {
      "cell_type": "code",
      "source": [
        "# 3. Write a program to accept a string from the user and display characters that are present at an even index number."
      ],
      "metadata": {
        "id": "vrLCCSjYrSwD"
      },
      "execution_count": null,
      "outputs": []
    },
    {
      "cell_type": "code",
      "source": [
        "word = input(\"enter word: \")\n",
        "print(\"our word is: \", word)\n",
        "size = len(word)\n",
        "for i in range(0, size-1, 2):\n",
        "  print(word[i])\n"
      ],
      "metadata": {
        "colab": {
          "base_uri": "https://localhost:8080/"
        },
        "id": "PYfBph0erS6W",
        "outputId": "d1cb4973-df29-48d5-e208-78fed5ef03bc"
      },
      "execution_count": null,
      "outputs": [
        {
          "output_type": "stream",
          "name": "stdout",
          "text": [
            "enter word: animeshdutta\n",
            "our word is:  animeshdutta\n",
            "a\n",
            "i\n",
            "e\n",
            "h\n",
            "u\n",
            "t\n"
          ]
        }
      ]
    },
    {
      "cell_type": "code",
      "source": [
        "# using list slicing\n",
        "word = input(\"enter word; \")\n",
        "x = list(word)\n",
        "for i in x[0::2]:\n",
        "  print(i)"
      ],
      "metadata": {
        "colab": {
          "base_uri": "https://localhost:8080/"
        },
        "id": "XjH4HadorTGF",
        "outputId": "8258c303-e590-4e26-b320-e6c5f557a857"
      },
      "execution_count": null,
      "outputs": [
        {
          "output_type": "stream",
          "name": "stdout",
          "text": [
            "enter word; animeshdutta\n",
            "a\n",
            "i\n",
            "e\n",
            "h\n",
            "u\n",
            "t\n"
          ]
        }
      ]
    },
    {
      "cell_type": "code",
      "source": [
        "# 4. Write a program to remove characters from a string starting from zero up to n and return a new string.\n",
        "def remove_char(word, n):\n",
        "  print(\"Original string: \", word)\n",
        "  x = word[n:]\n",
        "  return x"
      ],
      "metadata": {
        "id": "iB2bZUWGrTzX"
      },
      "execution_count": null,
      "outputs": []
    },
    {
      "cell_type": "code",
      "source": [
        "remove_char(\"abcdefghijkl\", 5)"
      ],
      "metadata": {
        "colab": {
          "base_uri": "https://localhost:8080/",
          "height": 53
        },
        "id": "jiY31QFkz3Xv",
        "outputId": "9dd7d815-890a-447d-f856-f31ab5cf4288"
      },
      "execution_count": null,
      "outputs": [
        {
          "output_type": "stream",
          "name": "stdout",
          "text": [
            "Original string:  abcdefghijkl\n"
          ]
        },
        {
          "output_type": "execute_result",
          "data": {
            "text/plain": [
              "'fghijkl'"
            ],
            "application/vnd.google.colaboratory.intrinsic+json": {
              "type": "string"
            }
          },
          "metadata": {},
          "execution_count": 25
        }
      ]
    },
    {
      "cell_type": "code",
      "source": [
        "# 5. Write a function to return True if the first and last number of a given list is same. If numbers are different then return False.\n",
        "def first_last_same(x):\n",
        "  print(\"the actual list: \", x)\n",
        "  first_num = x[0]\n",
        "  last_num = x[-1]\n",
        "  if first_num == last_num:\n",
        "    return True\n",
        "  else:\n",
        "    return False"
      ],
      "metadata": {
        "id": "oL1-VpFqz3fd"
      },
      "execution_count": null,
      "outputs": []
    },
    {
      "cell_type": "code",
      "source": [
        "list1 = [10,25,20,35,10]\n",
        "first_last_same(list1)"
      ],
      "metadata": {
        "colab": {
          "base_uri": "https://localhost:8080/"
        },
        "id": "DLiKO4hiz3n0",
        "outputId": "94a81608-3f7a-418d-9293-bc80cfecaa4f"
      },
      "execution_count": null,
      "outputs": [
        {
          "output_type": "stream",
          "name": "stdout",
          "text": [
            "the actual list:  [10, 25, 20, 35, 10]\n"
          ]
        },
        {
          "output_type": "execute_result",
          "data": {
            "text/plain": [
              "True"
            ]
          },
          "metadata": {},
          "execution_count": 27
        }
      ]
    },
    {
      "cell_type": "code",
      "source": [
        "list2 = [1,2,3,4,5,6]\n",
        "first_last_same(list2)"
      ],
      "metadata": {
        "colab": {
          "base_uri": "https://localhost:8080/"
        },
        "id": "A-P91C01z3vl",
        "outputId": "1755b048-8d01-4160-a92c-31bb7d918039"
      },
      "execution_count": null,
      "outputs": [
        {
          "output_type": "stream",
          "name": "stdout",
          "text": [
            "the actual list:  [1, 2, 3, 4, 5, 6]\n"
          ]
        },
        {
          "output_type": "execute_result",
          "data": {
            "text/plain": [
              "False"
            ]
          },
          "metadata": {},
          "execution_count": 28
        }
      ]
    },
    {
      "cell_type": "code",
      "source": [],
      "metadata": {
        "id": "PbdCFsf2z33U"
      },
      "execution_count": null,
      "outputs": []
    },
    {
      "cell_type": "code",
      "source": [],
      "metadata": {
        "id": "UJriEHZZz3-j"
      },
      "execution_count": null,
      "outputs": []
    },
    {
      "cell_type": "code",
      "source": [],
      "metadata": {
        "id": "Fejinxi5z4F0"
      },
      "execution_count": null,
      "outputs": []
    },
    {
      "cell_type": "code",
      "source": [],
      "metadata": {
        "id": "_ENbS9Mmz4Mz"
      },
      "execution_count": null,
      "outputs": []
    }
  ]
}